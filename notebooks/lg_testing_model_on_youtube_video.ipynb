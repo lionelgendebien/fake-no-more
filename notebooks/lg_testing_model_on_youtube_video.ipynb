{
 "cells": [
  {
   "cell_type": "code",
   "execution_count": 30,
   "id": "478fe016",
   "metadata": {},
   "outputs": [
    {
     "name": "stdout",
     "output_type": "stream",
     "text": [
      "Obtaining file:///home/lio_gdb/code/lionelgendebien/fake-no-more\n",
      "  Preparing metadata (setup.py) ... \u001b[?25ldone\n",
      "\u001b[?25hRequirement already satisfied: numpy<2.0.0 in /home/lio_gdb/.pyenv/versions/3.10.6/envs/fake-no-more/lib/python3.10/site-packages (from packagename==0.0.1) (1.26.4)\n",
      "Requirement already satisfied: pandas==2.1.4 in /home/lio_gdb/.pyenv/versions/3.10.6/envs/fake-no-more/lib/python3.10/site-packages (from packagename==0.0.1) (2.1.4)\n",
      "Requirement already satisfied: scikit-learn==1.3.2 in /home/lio_gdb/.pyenv/versions/3.10.6/envs/fake-no-more/lib/python3.10/site-packages (from packagename==0.0.1) (1.3.2)\n",
      "Requirement already satisfied: tensorflow==2.16.1 in /home/lio_gdb/.pyenv/versions/3.10.6/envs/fake-no-more/lib/python3.10/site-packages (from packagename==0.0.1) (2.16.1)\n",
      "Requirement already satisfied: keras==3.3.3 in /home/lio_gdb/.pyenv/versions/3.10.6/envs/fake-no-more/lib/python3.10/site-packages (from packagename==0.0.1) (3.3.3)\n",
      "Requirement already satisfied: fastapi in /home/lio_gdb/.pyenv/versions/3.10.6/envs/fake-no-more/lib/python3.10/site-packages (from packagename==0.0.1) (0.115.5)\n",
      "Requirement already satisfied: uvicorn in /home/lio_gdb/.pyenv/versions/3.10.6/envs/fake-no-more/lib/python3.10/site-packages (from packagename==0.0.1) (0.32.1)\n",
      "Requirement already satisfied: python-multipart in /home/lio_gdb/.pyenv/versions/3.10.6/envs/fake-no-more/lib/python3.10/site-packages (from packagename==0.0.1) (0.0.17)\n",
      "Requirement already satisfied: librosa in /home/lio_gdb/.pyenv/versions/3.10.6/envs/fake-no-more/lib/python3.10/site-packages (from packagename==0.0.1) (0.10.2.post1)\n",
      "Requirement already satisfied: streamlit in /home/lio_gdb/.pyenv/versions/3.10.6/envs/fake-no-more/lib/python3.10/site-packages (from packagename==0.0.1) (1.40.1)\n",
      "Requirement already satisfied: requests in /home/lio_gdb/.pyenv/versions/3.10.6/envs/fake-no-more/lib/python3.10/site-packages (from packagename==0.0.1) (2.32.3)\n",
      "Requirement already satisfied: pytube in /home/lio_gdb/.pyenv/versions/3.10.6/envs/fake-no-more/lib/python3.10/site-packages (from packagename==0.0.1) (15.0.0)\n",
      "Requirement already satisfied: moviepy in /home/lio_gdb/.pyenv/versions/3.10.6/envs/fake-no-more/lib/python3.10/site-packages (from packagename==0.0.1) (2.1.1)\n",
      "Requirement already satisfied: yt-dlp in /home/lio_gdb/.pyenv/versions/3.10.6/envs/fake-no-more/lib/python3.10/site-packages (from packagename==0.0.1) (2024.11.18)\n",
      "Requirement already satisfied: pydub in /home/lio_gdb/.pyenv/versions/3.10.6/envs/fake-no-more/lib/python3.10/site-packages (from packagename==0.0.1) (0.25.1)\n",
      "Requirement already satisfied: ffmpeg in /home/lio_gdb/.pyenv/versions/3.10.6/envs/fake-no-more/lib/python3.10/site-packages (from packagename==0.0.1) (1.4)\n",
      "Requirement already satisfied: pip in /home/lio_gdb/.pyenv/versions/3.10.6/envs/fake-no-more/lib/python3.10/site-packages (from packagename==0.0.1) (24.3.1)\n",
      "Requirement already satisfied: setuptools in /home/lio_gdb/.pyenv/versions/3.10.6/envs/fake-no-more/lib/python3.10/site-packages (from packagename==0.0.1) (63.2.0)\n",
      "Requirement already satisfied: twine in /home/lio_gdb/.pyenv/versions/3.10.6/envs/fake-no-more/lib/python3.10/site-packages (from packagename==0.0.1) (6.0.1)\n",
      "Requirement already satisfied: wheel in /home/lio_gdb/.pyenv/versions/3.10.6/envs/fake-no-more/lib/python3.10/site-packages (from packagename==0.0.1) (0.45.1)\n",
      "Requirement already satisfied: ipdb in /home/lio_gdb/.pyenv/versions/3.10.6/envs/fake-no-more/lib/python3.10/site-packages (from packagename==0.0.1) (0.13.13)\n",
      "Requirement already satisfied: ipykernel in /home/lio_gdb/.pyenv/versions/3.10.6/envs/fake-no-more/lib/python3.10/site-packages (from packagename==0.0.1) (6.29.5)\n",
      "Requirement already satisfied: matplotlib in /home/lio_gdb/.pyenv/versions/3.10.6/envs/fake-no-more/lib/python3.10/site-packages (from packagename==0.0.1) (3.9.2)\n",
      "Requirement already satisfied: seaborn in /home/lio_gdb/.pyenv/versions/3.10.6/envs/fake-no-more/lib/python3.10/site-packages (from packagename==0.0.1) (0.13.2)\n",
      "Requirement already satisfied: jupyter-contrib-core==0.4.0 in /home/lio_gdb/.pyenv/versions/3.10.6/envs/fake-no-more/lib/python3.10/site-packages (from packagename==0.0.1) (0.4.0)\n",
      "Requirement already satisfied: jupyter-contrib-nbextensions==0.5.1 in /home/lio_gdb/.pyenv/versions/3.10.6/envs/fake-no-more/lib/python3.10/site-packages (from packagename==0.0.1) (0.5.1)\n",
      "Requirement already satisfied: jupyter-highlight-selected-word==0.2.0 in /home/lio_gdb/.pyenv/versions/3.10.6/envs/fake-no-more/lib/python3.10/site-packages (from packagename==0.0.1) (0.2.0)\n",
      "Requirement already satisfied: jupyter-latex-envs==1.4.6 in /home/lio_gdb/.pyenv/versions/3.10.6/envs/fake-no-more/lib/python3.10/site-packages (from packagename==0.0.1) (1.4.6)\n",
      "Requirement already satisfied: jupyter-nbextensions-configurator==0.5.0 in /home/lio_gdb/.pyenv/versions/3.10.6/envs/fake-no-more/lib/python3.10/site-packages (from packagename==0.0.1) (0.5.0)\n",
      "Requirement already satisfied: jupyter-resource-usage==0.6.3 in /home/lio_gdb/.pyenv/versions/3.10.6/envs/fake-no-more/lib/python3.10/site-packages (from packagename==0.0.1) (0.6.3)\n",
      "Requirement already satisfied: jupyter-server==1.21.0 in /home/lio_gdb/.pyenv/versions/3.10.6/envs/fake-no-more/lib/python3.10/site-packages (from packagename==0.0.1) (1.21.0)\n",
      "Requirement already satisfied: jupyter_client==7.4.3 in /home/lio_gdb/.pyenv/versions/3.10.6/envs/fake-no-more/lib/python3.10/site-packages (from packagename==0.0.1) (7.4.3)\n",
      "Requirement already satisfied: jupyter_core in /home/lio_gdb/.pyenv/versions/3.10.6/envs/fake-no-more/lib/python3.10/site-packages (from packagename==0.0.1) (5.7.2)\n",
      "Requirement already satisfied: jupyterlab==3.4.8 in /home/lio_gdb/.pyenv/versions/3.10.6/envs/fake-no-more/lib/python3.10/site-packages (from packagename==0.0.1) (3.4.8)\n",
      "Requirement already satisfied: jupyterlab-pygments==0.2.2 in /home/lio_gdb/.pyenv/versions/3.10.6/envs/fake-no-more/lib/python3.10/site-packages (from packagename==0.0.1) (0.2.2)\n",
      "Requirement already satisfied: jupyterlab-widgets in /home/lio_gdb/.pyenv/versions/3.10.6/envs/fake-no-more/lib/python3.10/site-packages (from packagename==0.0.1) (1.1.1)\n",
      "Requirement already satisfied: jupyterlab_server==2.16.1 in /home/lio_gdb/.pyenv/versions/3.10.6/envs/fake-no-more/lib/python3.10/site-packages (from packagename==0.0.1) (2.16.1)\n",
      "Requirement already satisfied: notebook==6.4.12 in /home/lio_gdb/.pyenv/versions/3.10.6/envs/fake-no-more/lib/python3.10/site-packages (from packagename==0.0.1) (6.4.12)\n",
      "Requirement already satisfied: notebook_shim==0.2.0 in /home/lio_gdb/.pyenv/versions/3.10.6/envs/fake-no-more/lib/python3.10/site-packages (from packagename==0.0.1) (0.2.0)\n",
      "Requirement already satisfied: traitlets==5.5.0 in /home/lio_gdb/.pyenv/versions/3.10.6/envs/fake-no-more/lib/python3.10/site-packages (from packagename==0.0.1) (5.5.0)\n",
      "Requirement already satisfied: entrypoints in /home/lio_gdb/.pyenv/versions/3.10.6/envs/fake-no-more/lib/python3.10/site-packages (from jupyter_client==7.4.3->packagename==0.0.1) (0.4)\n",
      "Requirement already satisfied: nest-asyncio>=1.5.4 in /home/lio_gdb/.pyenv/versions/3.10.6/envs/fake-no-more/lib/python3.10/site-packages (from jupyter_client==7.4.3->packagename==0.0.1) (1.6.0)\n",
      "Requirement already satisfied: python-dateutil>=2.8.2 in /home/lio_gdb/.pyenv/versions/3.10.6/envs/fake-no-more/lib/python3.10/site-packages (from jupyter_client==7.4.3->packagename==0.0.1) (2.9.0.post0)\n",
      "Requirement already satisfied: pyzmq>=23.0 in /home/lio_gdb/.pyenv/versions/3.10.6/envs/fake-no-more/lib/python3.10/site-packages (from jupyter_client==7.4.3->packagename==0.0.1) (26.2.0)\n",
      "Requirement already satisfied: tornado>=6.2 in /home/lio_gdb/.pyenv/versions/3.10.6/envs/fake-no-more/lib/python3.10/site-packages (from jupyter_client==7.4.3->packagename==0.0.1) (6.4.2)\n",
      "Requirement already satisfied: ipython-genutils in /home/lio_gdb/.pyenv/versions/3.10.6/envs/fake-no-more/lib/python3.10/site-packages (from jupyter-contrib-nbextensions==0.5.1->packagename==0.0.1) (0.2.0)\n",
      "Requirement already satisfied: nbconvert>=4.2 in /home/lio_gdb/.pyenv/versions/3.10.6/envs/fake-no-more/lib/python3.10/site-packages (from jupyter-contrib-nbextensions==0.5.1->packagename==0.0.1) (7.16.4)\n",
      "Requirement already satisfied: pyyaml in /home/lio_gdb/.pyenv/versions/3.10.6/envs/fake-no-more/lib/python3.10/site-packages (from jupyter-contrib-nbextensions==0.5.1->packagename==0.0.1) (6.0.2)\n",
      "Requirement already satisfied: lxml in /home/lio_gdb/.pyenv/versions/3.10.6/envs/fake-no-more/lib/python3.10/site-packages (from jupyter-contrib-nbextensions==0.5.1->packagename==0.0.1) (5.3.0)\n",
      "Requirement already satisfied: ipython in /home/lio_gdb/.pyenv/versions/3.10.6/envs/fake-no-more/lib/python3.10/site-packages (from jupyter-latex-envs==1.4.6->packagename==0.0.1) (8.21.0)\n"
     ]
    },
    {
     "name": "stdout",
     "output_type": "stream",
     "text": [
      "Requirement already satisfied: prometheus-client in /home/lio_gdb/.pyenv/versions/3.10.6/envs/fake-no-more/lib/python3.10/site-packages (from jupyter-resource-usage==0.6.3->packagename==0.0.1) (0.21.0)\n",
      "Requirement already satisfied: psutil~=5.6 in /home/lio_gdb/.pyenv/versions/3.10.6/envs/fake-no-more/lib/python3.10/site-packages (from jupyter-resource-usage==0.6.3->packagename==0.0.1) (5.9.8)\n",
      "Requirement already satisfied: anyio<4,>=3.1.0 in /home/lio_gdb/.pyenv/versions/3.10.6/envs/fake-no-more/lib/python3.10/site-packages (from jupyter-server==1.21.0->packagename==0.0.1) (3.7.1)\n",
      "Requirement already satisfied: argon2-cffi in /home/lio_gdb/.pyenv/versions/3.10.6/envs/fake-no-more/lib/python3.10/site-packages (from jupyter-server==1.21.0->packagename==0.0.1) (23.1.0)\n",
      "Requirement already satisfied: jinja2 in /home/lio_gdb/.pyenv/versions/3.10.6/envs/fake-no-more/lib/python3.10/site-packages (from jupyter-server==1.21.0->packagename==0.0.1) (3.1.4)\n",
      "Requirement already satisfied: nbformat>=5.2.0 in /home/lio_gdb/.pyenv/versions/3.10.6/envs/fake-no-more/lib/python3.10/site-packages (from jupyter-server==1.21.0->packagename==0.0.1) (5.10.4)\n",
      "Requirement already satisfied: packaging in /home/lio_gdb/.pyenv/versions/3.10.6/envs/fake-no-more/lib/python3.10/site-packages (from jupyter-server==1.21.0->packagename==0.0.1) (24.2)\n",
      "Requirement already satisfied: Send2Trash in /home/lio_gdb/.pyenv/versions/3.10.6/envs/fake-no-more/lib/python3.10/site-packages (from jupyter-server==1.21.0->packagename==0.0.1) (1.8.3)\n",
      "Requirement already satisfied: terminado>=0.8.3 in /home/lio_gdb/.pyenv/versions/3.10.6/envs/fake-no-more/lib/python3.10/site-packages (from jupyter-server==1.21.0->packagename==0.0.1) (0.18.1)\n",
      "Requirement already satisfied: websocket-client in /home/lio_gdb/.pyenv/versions/3.10.6/envs/fake-no-more/lib/python3.10/site-packages (from jupyter-server==1.21.0->packagename==0.0.1) (1.8.0)\n",
      "Requirement already satisfied: nbclassic in /home/lio_gdb/.pyenv/versions/3.10.6/envs/fake-no-more/lib/python3.10/site-packages (from jupyterlab==3.4.8->packagename==0.0.1) (0.5.5)\n",
      "Requirement already satisfied: tomli in /home/lio_gdb/.pyenv/versions/3.10.6/envs/fake-no-more/lib/python3.10/site-packages (from jupyterlab==3.4.8->packagename==0.0.1) (2.1.0)\n",
      "Requirement already satisfied: babel in /home/lio_gdb/.pyenv/versions/3.10.6/envs/fake-no-more/lib/python3.10/site-packages (from jupyterlab_server==2.16.1->packagename==0.0.1) (2.16.0)\n",
      "Requirement already satisfied: json5 in /home/lio_gdb/.pyenv/versions/3.10.6/envs/fake-no-more/lib/python3.10/site-packages (from jupyterlab_server==2.16.1->packagename==0.0.1) (0.9.28)\n",
      "Requirement already satisfied: jsonschema>=3.0.1 in /home/lio_gdb/.pyenv/versions/3.10.6/envs/fake-no-more/lib/python3.10/site-packages (from jupyterlab_server==2.16.1->packagename==0.0.1) (4.23.0)\n",
      "Requirement already satisfied: absl-py in /home/lio_gdb/.pyenv/versions/3.10.6/envs/fake-no-more/lib/python3.10/site-packages (from keras==3.3.3->packagename==0.0.1) (2.1.0)\n",
      "Requirement already satisfied: rich in /home/lio_gdb/.pyenv/versions/3.10.6/envs/fake-no-more/lib/python3.10/site-packages (from keras==3.3.3->packagename==0.0.1) (13.9.4)\n",
      "Requirement already satisfied: namex in /home/lio_gdb/.pyenv/versions/3.10.6/envs/fake-no-more/lib/python3.10/site-packages (from keras==3.3.3->packagename==0.0.1) (0.0.8)\n",
      "Requirement already satisfied: h5py in /home/lio_gdb/.pyenv/versions/3.10.6/envs/fake-no-more/lib/python3.10/site-packages (from keras==3.3.3->packagename==0.0.1) (3.12.1)\n",
      "Requirement already satisfied: optree in /home/lio_gdb/.pyenv/versions/3.10.6/envs/fake-no-more/lib/python3.10/site-packages (from keras==3.3.3->packagename==0.0.1) (0.13.1)\n",
      "Requirement already satisfied: ml-dtypes in /home/lio_gdb/.pyenv/versions/3.10.6/envs/fake-no-more/lib/python3.10/site-packages (from keras==3.3.3->packagename==0.0.1) (0.3.2)\n",
      "Requirement already satisfied: pytz>=2020.1 in /home/lio_gdb/.pyenv/versions/3.10.6/envs/fake-no-more/lib/python3.10/site-packages (from pandas==2.1.4->packagename==0.0.1) (2024.2)\n",
      "Requirement already satisfied: tzdata>=2022.1 in /home/lio_gdb/.pyenv/versions/3.10.6/envs/fake-no-more/lib/python3.10/site-packages (from pandas==2.1.4->packagename==0.0.1) (2024.2)\n",
      "Requirement already satisfied: scipy>=1.5.0 in /home/lio_gdb/.pyenv/versions/3.10.6/envs/fake-no-more/lib/python3.10/site-packages (from scikit-learn==1.3.2->packagename==0.0.1) (1.14.1)\n",
      "Requirement already satisfied: joblib>=1.1.1 in /home/lio_gdb/.pyenv/versions/3.10.6/envs/fake-no-more/lib/python3.10/site-packages (from scikit-learn==1.3.2->packagename==0.0.1) (1.4.2)\n",
      "Requirement already satisfied: threadpoolctl>=2.0.0 in /home/lio_gdb/.pyenv/versions/3.10.6/envs/fake-no-more/lib/python3.10/site-packages (from scikit-learn==1.3.2->packagename==0.0.1) (3.5.0)\n",
      "Requirement already satisfied: astunparse>=1.6.0 in /home/lio_gdb/.pyenv/versions/3.10.6/envs/fake-no-more/lib/python3.10/site-packages (from tensorflow==2.16.1->packagename==0.0.1) (1.6.3)\n",
      "Requirement already satisfied: flatbuffers>=23.5.26 in /home/lio_gdb/.pyenv/versions/3.10.6/envs/fake-no-more/lib/python3.10/site-packages (from tensorflow==2.16.1->packagename==0.0.1) (24.3.25)\n",
      "Requirement already satisfied: gast!=0.5.0,!=0.5.1,!=0.5.2,>=0.2.1 in /home/lio_gdb/.pyenv/versions/3.10.6/envs/fake-no-more/lib/python3.10/site-packages (from tensorflow==2.16.1->packagename==0.0.1) (0.6.0)\n",
      "Requirement already satisfied: google-pasta>=0.1.1 in /home/lio_gdb/.pyenv/versions/3.10.6/envs/fake-no-more/lib/python3.10/site-packages (from tensorflow==2.16.1->packagename==0.0.1) (0.2.0)\n",
      "Requirement already satisfied: libclang>=13.0.0 in /home/lio_gdb/.pyenv/versions/3.10.6/envs/fake-no-more/lib/python3.10/site-packages (from tensorflow==2.16.1->packagename==0.0.1) (18.1.1)\n",
      "Requirement already satisfied: opt-einsum>=2.3.2 in /home/lio_gdb/.pyenv/versions/3.10.6/envs/fake-no-more/lib/python3.10/site-packages (from tensorflow==2.16.1->packagename==0.0.1) (3.4.0)\n",
      "Requirement already satisfied: protobuf!=4.21.0,!=4.21.1,!=4.21.2,!=4.21.3,!=4.21.4,!=4.21.5,<5.0.0dev,>=3.20.3 in /home/lio_gdb/.pyenv/versions/3.10.6/envs/fake-no-more/lib/python3.10/site-packages (from tensorflow==2.16.1->packagename==0.0.1) (4.25.5)\n",
      "Requirement already satisfied: six>=1.12.0 in /home/lio_gdb/.pyenv/versions/3.10.6/envs/fake-no-more/lib/python3.10/site-packages (from tensorflow==2.16.1->packagename==0.0.1) (1.16.0)\n",
      "Requirement already satisfied: termcolor>=1.1.0 in /home/lio_gdb/.pyenv/versions/3.10.6/envs/fake-no-more/lib/python3.10/site-packages (from tensorflow==2.16.1->packagename==0.0.1) (2.5.0)\n",
      "Requirement already satisfied: typing-extensions>=3.6.6 in /home/lio_gdb/.pyenv/versions/3.10.6/envs/fake-no-more/lib/python3.10/site-packages (from tensorflow==2.16.1->packagename==0.0.1) (4.12.2)\n",
      "Requirement already satisfied: wrapt>=1.11.0 in /home/lio_gdb/.pyenv/versions/3.10.6/envs/fake-no-more/lib/python3.10/site-packages (from tensorflow==2.16.1->packagename==0.0.1) (1.17.0)\n",
      "Requirement already satisfied: grpcio<2.0,>=1.24.3 in /home/lio_gdb/.pyenv/versions/3.10.6/envs/fake-no-more/lib/python3.10/site-packages (from tensorflow==2.16.1->packagename==0.0.1) (1.68.0)\n",
      "Requirement already satisfied: tensorboard<2.17,>=2.16 in /home/lio_gdb/.pyenv/versions/3.10.6/envs/fake-no-more/lib/python3.10/site-packages (from tensorflow==2.16.1->packagename==0.0.1) (2.16.2)\n",
      "Requirement already satisfied: tensorflow-io-gcs-filesystem>=0.23.1 in /home/lio_gdb/.pyenv/versions/3.10.6/envs/fake-no-more/lib/python3.10/site-packages (from tensorflow==2.16.1->packagename==0.0.1) (0.37.1)\n",
      "Requirement already satisfied: platformdirs>=2.5 in /home/lio_gdb/.pyenv/versions/3.10.6/envs/fake-no-more/lib/python3.10/site-packages (from jupyter_core->packagename==0.0.1) (4.3.6)\n",
      "Requirement already satisfied: charset-normalizer<4,>=2 in /home/lio_gdb/.pyenv/versions/3.10.6/envs/fake-no-more/lib/python3.10/site-packages (from requests->packagename==0.0.1) (3.4.0)\n",
      "Requirement already satisfied: idna<4,>=2.5 in /home/lio_gdb/.pyenv/versions/3.10.6/envs/fake-no-more/lib/python3.10/site-packages (from requests->packagename==0.0.1) (3.10)\n",
      "Requirement already satisfied: urllib3<3,>=1.21.1 in /home/lio_gdb/.pyenv/versions/3.10.6/envs/fake-no-more/lib/python3.10/site-packages (from requests->packagename==0.0.1) (2.2.3)\n",
      "Requirement already satisfied: certifi>=2017.4.17 in /home/lio_gdb/.pyenv/versions/3.10.6/envs/fake-no-more/lib/python3.10/site-packages (from requests->packagename==0.0.1) (2024.8.30)\n"
     ]
    },
    {
     "name": "stdout",
     "output_type": "stream",
     "text": [
      "Requirement already satisfied: starlette<0.42.0,>=0.40.0 in /home/lio_gdb/.pyenv/versions/3.10.6/envs/fake-no-more/lib/python3.10/site-packages (from fastapi->packagename==0.0.1) (0.41.3)\n",
      "Requirement already satisfied: pydantic!=1.8,!=1.8.1,!=2.0.0,!=2.0.1,!=2.1.0,<3.0.0,>=1.7.4 in /home/lio_gdb/.pyenv/versions/3.10.6/envs/fake-no-more/lib/python3.10/site-packages (from fastapi->packagename==0.0.1) (2.10.1)\n",
      "Requirement already satisfied: decorator in /home/lio_gdb/.pyenv/versions/3.10.6/envs/fake-no-more/lib/python3.10/site-packages (from ipdb->packagename==0.0.1) (5.1.1)\n",
      "Requirement already satisfied: comm>=0.1.1 in /home/lio_gdb/.pyenv/versions/3.10.6/envs/fake-no-more/lib/python3.10/site-packages (from ipykernel->packagename==0.0.1) (0.2.2)\n",
      "Requirement already satisfied: debugpy>=1.6.5 in /home/lio_gdb/.pyenv/versions/3.10.6/envs/fake-no-more/lib/python3.10/site-packages (from ipykernel->packagename==0.0.1) (1.8.9)\n",
      "Requirement already satisfied: matplotlib-inline>=0.1 in /home/lio_gdb/.pyenv/versions/3.10.6/envs/fake-no-more/lib/python3.10/site-packages (from ipykernel->packagename==0.0.1) (0.1.7)\n",
      "Requirement already satisfied: audioread>=2.1.9 in /home/lio_gdb/.pyenv/versions/3.10.6/envs/fake-no-more/lib/python3.10/site-packages (from librosa->packagename==0.0.1) (3.0.1)\n",
      "Requirement already satisfied: numba>=0.51.0 in /home/lio_gdb/.pyenv/versions/3.10.6/envs/fake-no-more/lib/python3.10/site-packages (from librosa->packagename==0.0.1) (0.60.0)\n",
      "Requirement already satisfied: soundfile>=0.12.1 in /home/lio_gdb/.pyenv/versions/3.10.6/envs/fake-no-more/lib/python3.10/site-packages (from librosa->packagename==0.0.1) (0.12.1)\n",
      "Requirement already satisfied: pooch>=1.1 in /home/lio_gdb/.pyenv/versions/3.10.6/envs/fake-no-more/lib/python3.10/site-packages (from librosa->packagename==0.0.1) (1.8.2)\n",
      "Requirement already satisfied: soxr>=0.3.2 in /home/lio_gdb/.pyenv/versions/3.10.6/envs/fake-no-more/lib/python3.10/site-packages (from librosa->packagename==0.0.1) (0.5.0.post1)\n",
      "Requirement already satisfied: lazy-loader>=0.1 in /home/lio_gdb/.pyenv/versions/3.10.6/envs/fake-no-more/lib/python3.10/site-packages (from librosa->packagename==0.0.1) (0.4)\n",
      "Requirement already satisfied: msgpack>=1.0 in /home/lio_gdb/.pyenv/versions/3.10.6/envs/fake-no-more/lib/python3.10/site-packages (from librosa->packagename==0.0.1) (1.1.0)\n",
      "Requirement already satisfied: contourpy>=1.0.1 in /home/lio_gdb/.pyenv/versions/3.10.6/envs/fake-no-more/lib/python3.10/site-packages (from matplotlib->packagename==0.0.1) (1.3.1)\n",
      "Requirement already satisfied: cycler>=0.10 in /home/lio_gdb/.pyenv/versions/3.10.6/envs/fake-no-more/lib/python3.10/site-packages (from matplotlib->packagename==0.0.1) (0.12.1)\n",
      "Requirement already satisfied: fonttools>=4.22.0 in /home/lio_gdb/.pyenv/versions/3.10.6/envs/fake-no-more/lib/python3.10/site-packages (from matplotlib->packagename==0.0.1) (4.55.0)\n",
      "Requirement already satisfied: kiwisolver>=1.3.1 in /home/lio_gdb/.pyenv/versions/3.10.6/envs/fake-no-more/lib/python3.10/site-packages (from matplotlib->packagename==0.0.1) (1.4.7)\n",
      "Requirement already satisfied: pillow>=8 in /home/lio_gdb/.pyenv/versions/3.10.6/envs/fake-no-more/lib/python3.10/site-packages (from matplotlib->packagename==0.0.1) (10.4.0)\n",
      "Requirement already satisfied: pyparsing>=2.3.1 in /home/lio_gdb/.pyenv/versions/3.10.6/envs/fake-no-more/lib/python3.10/site-packages (from matplotlib->packagename==0.0.1) (3.2.0)\n",
      "Requirement already satisfied: imageio<3.0,>=2.5 in /home/lio_gdb/.pyenv/versions/3.10.6/envs/fake-no-more/lib/python3.10/site-packages (from moviepy->packagename==0.0.1) (2.36.1)\n",
      "Requirement already satisfied: imageio_ffmpeg>=0.2.0 in /home/lio_gdb/.pyenv/versions/3.10.6/envs/fake-no-more/lib/python3.10/site-packages (from moviepy->packagename==0.0.1) (0.5.1)\n",
      "Requirement already satisfied: proglog<=1.0.0 in /home/lio_gdb/.pyenv/versions/3.10.6/envs/fake-no-more/lib/python3.10/site-packages (from moviepy->packagename==0.0.1) (0.1.10)\n",
      "Requirement already satisfied: python-dotenv>=0.10 in /home/lio_gdb/.pyenv/versions/3.10.6/envs/fake-no-more/lib/python3.10/site-packages (from moviepy->packagename==0.0.1) (1.0.1)\n",
      "Requirement already satisfied: altair<6,>=4.0 in /home/lio_gdb/.pyenv/versions/3.10.6/envs/fake-no-more/lib/python3.10/site-packages (from streamlit->packagename==0.0.1) (4.2.2)\n",
      "Requirement already satisfied: blinker<2,>=1.0.0 in /home/lio_gdb/.pyenv/versions/3.10.6/envs/fake-no-more/lib/python3.10/site-packages (from streamlit->packagename==0.0.1) (1.9.0)\n",
      "Requirement already satisfied: cachetools<6,>=4.0 in /home/lio_gdb/.pyenv/versions/3.10.6/envs/fake-no-more/lib/python3.10/site-packages (from streamlit->packagename==0.0.1) (5.5.0)\n",
      "Requirement already satisfied: click<9,>=7.0 in /home/lio_gdb/.pyenv/versions/3.10.6/envs/fake-no-more/lib/python3.10/site-packages (from streamlit->packagename==0.0.1) (8.1.7)\n",
      "Requirement already satisfied: pyarrow>=7.0 in /home/lio_gdb/.pyenv/versions/3.10.6/envs/fake-no-more/lib/python3.10/site-packages (from streamlit->packagename==0.0.1) (18.0.0)\n",
      "Requirement already satisfied: tenacity<10,>=8.1.0 in /home/lio_gdb/.pyenv/versions/3.10.6/envs/fake-no-more/lib/python3.10/site-packages (from streamlit->packagename==0.0.1) (9.0.0)\n",
      "Requirement already satisfied: toml<2,>=0.10.1 in /home/lio_gdb/.pyenv/versions/3.10.6/envs/fake-no-more/lib/python3.10/site-packages (from streamlit->packagename==0.0.1) (0.10.2)\n",
      "Requirement already satisfied: gitpython!=3.1.19,<4,>=3.0.7 in /home/lio_gdb/.pyenv/versions/3.10.6/envs/fake-no-more/lib/python3.10/site-packages (from streamlit->packagename==0.0.1) (3.1.43)\n",
      "Requirement already satisfied: pydeck<1,>=0.8.0b4 in /home/lio_gdb/.pyenv/versions/3.10.6/envs/fake-no-more/lib/python3.10/site-packages (from streamlit->packagename==0.0.1) (0.9.1)\n",
      "Requirement already satisfied: watchdog<7,>=2.1.5 in /home/lio_gdb/.pyenv/versions/3.10.6/envs/fake-no-more/lib/python3.10/site-packages (from streamlit->packagename==0.0.1) (6.0.0)\n",
      "Requirement already satisfied: pkginfo>=1.8.1 in /home/lio_gdb/.pyenv/versions/3.10.6/envs/fake-no-more/lib/python3.10/site-packages (from twine->packagename==0.0.1) (1.11.2)\n",
      "Requirement already satisfied: readme-renderer>=35.0 in /home/lio_gdb/.pyenv/versions/3.10.6/envs/fake-no-more/lib/python3.10/site-packages (from twine->packagename==0.0.1) (44.0)\n",
      "Requirement already satisfied: requests-toolbelt!=0.9.0,>=0.8.0 in /home/lio_gdb/.pyenv/versions/3.10.6/envs/fake-no-more/lib/python3.10/site-packages (from twine->packagename==0.0.1) (1.0.0)\n",
      "Requirement already satisfied: keyring>=15.1 in /home/lio_gdb/.pyenv/versions/3.10.6/envs/fake-no-more/lib/python3.10/site-packages (from twine->packagename==0.0.1) (25.5.0)\n",
      "Requirement already satisfied: rfc3986>=1.4.0 in /home/lio_gdb/.pyenv/versions/3.10.6/envs/fake-no-more/lib/python3.10/site-packages (from twine->packagename==0.0.1) (2.0.0)\n",
      "Requirement already satisfied: h11>=0.8 in /home/lio_gdb/.pyenv/versions/3.10.6/envs/fake-no-more/lib/python3.10/site-packages (from uvicorn->packagename==0.0.1) (0.14.0)\n",
      "Requirement already satisfied: toolz in /home/lio_gdb/.pyenv/versions/3.10.6/envs/fake-no-more/lib/python3.10/site-packages (from altair<6,>=4.0->streamlit->packagename==0.0.1) (1.0.0)\n",
      "Requirement already satisfied: sniffio>=1.1 in /home/lio_gdb/.pyenv/versions/3.10.6/envs/fake-no-more/lib/python3.10/site-packages (from anyio<4,>=3.1.0->jupyter-server==1.21.0->packagename==0.0.1) (1.3.1)\n",
      "Requirement already satisfied: exceptiongroup in /home/lio_gdb/.pyenv/versions/3.10.6/envs/fake-no-more/lib/python3.10/site-packages (from anyio<4,>=3.1.0->jupyter-server==1.21.0->packagename==0.0.1) (1.2.2)\n",
      "Requirement already satisfied: gitdb<5,>=4.0.1 in /home/lio_gdb/.pyenv/versions/3.10.6/envs/fake-no-more/lib/python3.10/site-packages (from gitpython!=3.1.19,<4,>=3.0.7->streamlit->packagename==0.0.1) (4.0.11)\n",
      "Requirement already satisfied: jedi>=0.16 in /home/lio_gdb/.pyenv/versions/3.10.6/envs/fake-no-more/lib/python3.10/site-packages (from ipython->jupyter-latex-envs==1.4.6->packagename==0.0.1) (0.19.2)\n",
      "Requirement already satisfied: prompt-toolkit<3.1.0,>=3.0.41 in /home/lio_gdb/.pyenv/versions/3.10.6/envs/fake-no-more/lib/python3.10/site-packages (from ipython->jupyter-latex-envs==1.4.6->packagename==0.0.1) (3.0.48)\n",
      "Requirement already satisfied: pygments>=2.4.0 in /home/lio_gdb/.pyenv/versions/3.10.6/envs/fake-no-more/lib/python3.10/site-packages (from ipython->jupyter-latex-envs==1.4.6->packagename==0.0.1) (2.18.0)\n",
      "Requirement already satisfied: stack-data in /home/lio_gdb/.pyenv/versions/3.10.6/envs/fake-no-more/lib/python3.10/site-packages (from ipython->jupyter-latex-envs==1.4.6->packagename==0.0.1) (0.6.3)\n",
      "Requirement already satisfied: pexpect>4.3 in /home/lio_gdb/.pyenv/versions/3.10.6/envs/fake-no-more/lib/python3.10/site-packages (from ipython->jupyter-latex-envs==1.4.6->packagename==0.0.1) (4.9.0)\n",
      "Requirement already satisfied: MarkupSafe>=2.0 in /home/lio_gdb/.pyenv/versions/3.10.6/envs/fake-no-more/lib/python3.10/site-packages (from jinja2->jupyter-server==1.21.0->packagename==0.0.1) (3.0.2)\n",
      "Requirement already satisfied: attrs>=22.2.0 in /home/lio_gdb/.pyenv/versions/3.10.6/envs/fake-no-more/lib/python3.10/site-packages (from jsonschema>=3.0.1->jupyterlab_server==2.16.1->packagename==0.0.1) (24.2.0)\n",
      "Requirement already satisfied: jsonschema-specifications>=2023.03.6 in /home/lio_gdb/.pyenv/versions/3.10.6/envs/fake-no-more/lib/python3.10/site-packages (from jsonschema>=3.0.1->jupyterlab_server==2.16.1->packagename==0.0.1) (2024.10.1)\n",
      "Requirement already satisfied: referencing>=0.28.4 in /home/lio_gdb/.pyenv/versions/3.10.6/envs/fake-no-more/lib/python3.10/site-packages (from jsonschema>=3.0.1->jupyterlab_server==2.16.1->packagename==0.0.1) (0.35.1)\n"
     ]
    },
    {
     "name": "stdout",
     "output_type": "stream",
     "text": [
      "Requirement already satisfied: rpds-py>=0.7.1 in /home/lio_gdb/.pyenv/versions/3.10.6/envs/fake-no-more/lib/python3.10/site-packages (from jsonschema>=3.0.1->jupyterlab_server==2.16.1->packagename==0.0.1) (0.21.0)\n",
      "Requirement already satisfied: jaraco.classes in /home/lio_gdb/.pyenv/versions/3.10.6/envs/fake-no-more/lib/python3.10/site-packages (from keyring>=15.1->twine->packagename==0.0.1) (3.4.0)\n",
      "Requirement already satisfied: jaraco.functools in /home/lio_gdb/.pyenv/versions/3.10.6/envs/fake-no-more/lib/python3.10/site-packages (from keyring>=15.1->twine->packagename==0.0.1) (4.1.0)\n",
      "Requirement already satisfied: jaraco.context in /home/lio_gdb/.pyenv/versions/3.10.6/envs/fake-no-more/lib/python3.10/site-packages (from keyring>=15.1->twine->packagename==0.0.1) (6.0.1)\n",
      "Requirement already satisfied: importlib-metadata>=4.11.4 in /home/lio_gdb/.pyenv/versions/3.10.6/envs/fake-no-more/lib/python3.10/site-packages (from keyring>=15.1->twine->packagename==0.0.1) (8.5.0)\n",
      "Requirement already satisfied: SecretStorage>=3.2 in /home/lio_gdb/.pyenv/versions/3.10.6/envs/fake-no-more/lib/python3.10/site-packages (from keyring>=15.1->twine->packagename==0.0.1) (3.3.3)\n",
      "Requirement already satisfied: jeepney>=0.4.2 in /home/lio_gdb/.pyenv/versions/3.10.6/envs/fake-no-more/lib/python3.10/site-packages (from keyring>=15.1->twine->packagename==0.0.1) (0.8.0)\n",
      "Requirement already satisfied: beautifulsoup4 in /home/lio_gdb/.pyenv/versions/3.10.6/envs/fake-no-more/lib/python3.10/site-packages (from nbconvert>=4.2->jupyter-contrib-nbextensions==0.5.1->packagename==0.0.1) (4.12.3)\n",
      "Requirement already satisfied: bleach!=5.0.0 in /home/lio_gdb/.pyenv/versions/3.10.6/envs/fake-no-more/lib/python3.10/site-packages (from nbconvert>=4.2->jupyter-contrib-nbextensions==0.5.1->packagename==0.0.1) (6.2.0)\n",
      "Requirement already satisfied: defusedxml in /home/lio_gdb/.pyenv/versions/3.10.6/envs/fake-no-more/lib/python3.10/site-packages (from nbconvert>=4.2->jupyter-contrib-nbextensions==0.5.1->packagename==0.0.1) (0.7.1)\n",
      "Requirement already satisfied: mistune<4,>=2.0.3 in /home/lio_gdb/.pyenv/versions/3.10.6/envs/fake-no-more/lib/python3.10/site-packages (from nbconvert>=4.2->jupyter-contrib-nbextensions==0.5.1->packagename==0.0.1) (3.0.2)\n",
      "Requirement already satisfied: nbclient>=0.5.0 in /home/lio_gdb/.pyenv/versions/3.10.6/envs/fake-no-more/lib/python3.10/site-packages (from nbconvert>=4.2->jupyter-contrib-nbextensions==0.5.1->packagename==0.0.1) (0.10.0)\n",
      "Requirement already satisfied: pandocfilters>=1.4.1 in /home/lio_gdb/.pyenv/versions/3.10.6/envs/fake-no-more/lib/python3.10/site-packages (from nbconvert>=4.2->jupyter-contrib-nbextensions==0.5.1->packagename==0.0.1) (1.5.1)\n",
      "Requirement already satisfied: tinycss2 in /home/lio_gdb/.pyenv/versions/3.10.6/envs/fake-no-more/lib/python3.10/site-packages (from nbconvert>=4.2->jupyter-contrib-nbextensions==0.5.1->packagename==0.0.1) (1.4.0)\n",
      "Requirement already satisfied: fastjsonschema>=2.15 in /home/lio_gdb/.pyenv/versions/3.10.6/envs/fake-no-more/lib/python3.10/site-packages (from nbformat>=5.2.0->jupyter-server==1.21.0->packagename==0.0.1) (2.20.0)\n",
      "Requirement already satisfied: llvmlite<0.44,>=0.43.0dev0 in /home/lio_gdb/.pyenv/versions/3.10.6/envs/fake-no-more/lib/python3.10/site-packages (from numba>=0.51.0->librosa->packagename==0.0.1) (0.43.0)\n",
      "Requirement already satisfied: tqdm in /home/lio_gdb/.pyenv/versions/3.10.6/envs/fake-no-more/lib/python3.10/site-packages (from proglog<=1.0.0->moviepy->packagename==0.0.1) (4.67.1)\n",
      "Requirement already satisfied: annotated-types>=0.6.0 in /home/lio_gdb/.pyenv/versions/3.10.6/envs/fake-no-more/lib/python3.10/site-packages (from pydantic!=1.8,!=1.8.1,!=2.0.0,!=2.0.1,!=2.1.0,<3.0.0,>=1.7.4->fastapi->packagename==0.0.1) (0.7.0)\n",
      "Requirement already satisfied: pydantic-core==2.27.1 in /home/lio_gdb/.pyenv/versions/3.10.6/envs/fake-no-more/lib/python3.10/site-packages (from pydantic!=1.8,!=1.8.1,!=2.0.0,!=2.0.1,!=2.1.0,<3.0.0,>=1.7.4->fastapi->packagename==0.0.1) (2.27.1)\n",
      "Requirement already satisfied: nh3>=0.2.14 in /home/lio_gdb/.pyenv/versions/3.10.6/envs/fake-no-more/lib/python3.10/site-packages (from readme-renderer>=35.0->twine->packagename==0.0.1) (0.2.19)\n",
      "Requirement already satisfied: docutils>=0.21.2 in /home/lio_gdb/.pyenv/versions/3.10.6/envs/fake-no-more/lib/python3.10/site-packages (from readme-renderer>=35.0->twine->packagename==0.0.1) (0.21.2)\n",
      "Requirement already satisfied: markdown-it-py>=2.2.0 in /home/lio_gdb/.pyenv/versions/3.10.6/envs/fake-no-more/lib/python3.10/site-packages (from rich->keras==3.3.3->packagename==0.0.1) (3.0.0)\n",
      "Requirement already satisfied: cffi>=1.0 in /home/lio_gdb/.pyenv/versions/3.10.6/envs/fake-no-more/lib/python3.10/site-packages (from soundfile>=0.12.1->librosa->packagename==0.0.1) (1.17.1)\n",
      "Requirement already satisfied: markdown>=2.6.8 in /home/lio_gdb/.pyenv/versions/3.10.6/envs/fake-no-more/lib/python3.10/site-packages (from tensorboard<2.17,>=2.16->tensorflow==2.16.1->packagename==0.0.1) (3.7)\n",
      "Requirement already satisfied: tensorboard-data-server<0.8.0,>=0.7.0 in /home/lio_gdb/.pyenv/versions/3.10.6/envs/fake-no-more/lib/python3.10/site-packages (from tensorboard<2.17,>=2.16->tensorflow==2.16.1->packagename==0.0.1) (0.7.2)\n",
      "Requirement already satisfied: werkzeug>=1.0.1 in /home/lio_gdb/.pyenv/versions/3.10.6/envs/fake-no-more/lib/python3.10/site-packages (from tensorboard<2.17,>=2.16->tensorflow==2.16.1->packagename==0.0.1) (3.1.3)\n",
      "Requirement already satisfied: ptyprocess in /home/lio_gdb/.pyenv/versions/3.10.6/envs/fake-no-more/lib/python3.10/site-packages (from terminado>=0.8.3->jupyter-server==1.21.0->packagename==0.0.1) (0.7.0)\n",
      "Requirement already satisfied: argon2-cffi-bindings in /home/lio_gdb/.pyenv/versions/3.10.6/envs/fake-no-more/lib/python3.10/site-packages (from argon2-cffi->jupyter-server==1.21.0->packagename==0.0.1) (21.2.0)\n",
      "Requirement already satisfied: webencodings in /home/lio_gdb/.pyenv/versions/3.10.6/envs/fake-no-more/lib/python3.10/site-packages (from bleach!=5.0.0->nbconvert>=4.2->jupyter-contrib-nbextensions==0.5.1->packagename==0.0.1) (0.5.1)\n",
      "Requirement already satisfied: pycparser in /home/lio_gdb/.pyenv/versions/3.10.6/envs/fake-no-more/lib/python3.10/site-packages (from cffi>=1.0->soundfile>=0.12.1->librosa->packagename==0.0.1) (2.22)\n",
      "Requirement already satisfied: smmap<6,>=3.0.1 in /home/lio_gdb/.pyenv/versions/3.10.6/envs/fake-no-more/lib/python3.10/site-packages (from gitdb<5,>=4.0.1->gitpython!=3.1.19,<4,>=3.0.7->streamlit->packagename==0.0.1) (5.0.1)\n",
      "Requirement already satisfied: zipp>=3.20 in /home/lio_gdb/.pyenv/versions/3.10.6/envs/fake-no-more/lib/python3.10/site-packages (from importlib-metadata>=4.11.4->keyring>=15.1->twine->packagename==0.0.1) (3.21.0)\n",
      "Requirement already satisfied: parso<0.9.0,>=0.8.4 in /home/lio_gdb/.pyenv/versions/3.10.6/envs/fake-no-more/lib/python3.10/site-packages (from jedi>=0.16->ipython->jupyter-latex-envs==1.4.6->packagename==0.0.1) (0.8.4)\n",
      "Requirement already satisfied: mdurl~=0.1 in /home/lio_gdb/.pyenv/versions/3.10.6/envs/fake-no-more/lib/python3.10/site-packages (from markdown-it-py>=2.2.0->rich->keras==3.3.3->packagename==0.0.1) (0.1.2)\n",
      "Requirement already satisfied: wcwidth in /home/lio_gdb/.pyenv/versions/3.10.6/envs/fake-no-more/lib/python3.10/site-packages (from prompt-toolkit<3.1.0,>=3.0.41->ipython->jupyter-latex-envs==1.4.6->packagename==0.0.1) (0.2.13)\n",
      "Requirement already satisfied: cryptography>=2.0 in /home/lio_gdb/.pyenv/versions/3.10.6/envs/fake-no-more/lib/python3.10/site-packages (from SecretStorage>=3.2->keyring>=15.1->twine->packagename==0.0.1) (44.0.0)\n",
      "Requirement already satisfied: soupsieve>1.2 in /home/lio_gdb/.pyenv/versions/3.10.6/envs/fake-no-more/lib/python3.10/site-packages (from beautifulsoup4->nbconvert>=4.2->jupyter-contrib-nbextensions==0.5.1->packagename==0.0.1) (2.6)\n",
      "Requirement already satisfied: more-itertools in /home/lio_gdb/.pyenv/versions/3.10.6/envs/fake-no-more/lib/python3.10/site-packages (from jaraco.classes->keyring>=15.1->twine->packagename==0.0.1) (10.5.0)\n",
      "Requirement already satisfied: backports.tarfile in /home/lio_gdb/.pyenv/versions/3.10.6/envs/fake-no-more/lib/python3.10/site-packages (from jaraco.context->keyring>=15.1->twine->packagename==0.0.1) (1.2.0)\n"
     ]
    },
    {
     "name": "stdout",
     "output_type": "stream",
     "text": [
      "Requirement already satisfied: executing>=1.2.0 in /home/lio_gdb/.pyenv/versions/3.10.6/envs/fake-no-more/lib/python3.10/site-packages (from stack-data->ipython->jupyter-latex-envs==1.4.6->packagename==0.0.1) (2.1.0)\n",
      "Requirement already satisfied: asttokens>=2.1.0 in /home/lio_gdb/.pyenv/versions/3.10.6/envs/fake-no-more/lib/python3.10/site-packages (from stack-data->ipython->jupyter-latex-envs==1.4.6->packagename==0.0.1) (2.4.1)\n",
      "Requirement already satisfied: pure-eval in /home/lio_gdb/.pyenv/versions/3.10.6/envs/fake-no-more/lib/python3.10/site-packages (from stack-data->ipython->jupyter-latex-envs==1.4.6->packagename==0.0.1) (0.2.3)\n",
      "Installing collected packages: packagename\n",
      "  Attempting uninstall: packagename\n",
      "    Found existing installation: packagename 0.0.1\n",
      "    Uninstalling packagename-0.0.1:\n",
      "      Successfully uninstalled packagename-0.0.1\n",
      "\u001b[33m  DEPRECATION: Legacy editable install of packagename==0.0.1 from file:///home/lio_gdb/code/lionelgendebien/fake-no-more (setup.py develop) is deprecated. pip 25.0 will enforce this behaviour change. A possible replacement is to add a pyproject.toml or enable --use-pep517, and use setuptools >= 64. If the resulting installation is not behaving as expected, try using --config-settings editable_mode=compat. Please consult the setuptools documentation for more information. Discussion can be found at https://github.com/pypa/pip/issues/11457\u001b[0m\u001b[33m\n",
      "\u001b[0m  Running setup.py develop for packagename\n",
      "Successfully installed packagename\n"
     ]
    }
   ],
   "source": [
    "!pip install -e .."
   ]
  },
  {
   "cell_type": "code",
   "execution_count": 31,
   "id": "d229541e",
   "metadata": {},
   "outputs": [
    {
     "name": "stdout",
     "output_type": "stream",
     "text": [
      "/home/lio_gdb/code/lionelgendebien/fake-no-more/notebooks\r\n"
     ]
    }
   ],
   "source": [
    "!pwd"
   ]
  },
  {
   "cell_type": "code",
   "execution_count": 32,
   "id": "b7390228",
   "metadata": {},
   "outputs": [
    {
     "name": "stdout",
     "output_type": "stream",
     "text": [
      "The autoreload extension is already loaded. To reload it, use:\n",
      "  %reload_ext autoreload\n"
     ]
    }
   ],
   "source": [
    "import pandas as pd\n",
    "import librosa\n",
    "import os\n",
    "import numpy as np\n",
    "import seaborn as sns\n",
    "import matplotlib.pyplot as plt\n",
    "from fake_no_more.youtube_to_wav import download_youtube_audio_as_wav\n",
    "from fake_no_more.prediction_demo import prepare_test_data, load_model, predict_X, predict_prob\n",
    "\n",
    "%load_ext autoreload\n",
    "%autoreload 2"
   ]
  },
  {
   "cell_type": "markdown",
   "id": "fbb036df",
   "metadata": {},
   "source": [
    "# Convert youtube video to WAV file"
   ]
  },
  {
   "cell_type": "code",
   "execution_count": 33,
   "id": "20bf7007",
   "metadata": {},
   "outputs": [],
   "source": [
    "# Set path to the test WAV file\n",
    "project_root = os.path.abspath(os.path.join(os.getcwd(), '..'))"
   ]
  },
  {
   "cell_type": "code",
   "execution_count": 45,
   "id": "5251f3f1",
   "metadata": {},
   "outputs": [],
   "source": [
    "# Obama (OK)\n",
    "url=\"https://www.youtube.com/watch?v=cQ54GDm1eL0\"\n",
    "output_filename=\"obama_fake_youtube.wav\"\n",
    "target_directory=os.path.join(project_root, \"tests\")"
   ]
  },
  {
   "cell_type": "code",
   "execution_count": 15,
   "id": "3ea33457",
   "metadata": {},
   "outputs": [],
   "source": [
    "# # Morgan Freeman (OK)\n",
    "# url=\"https://www.youtube.com/watch?v=oxXpB9pSETo\"\n",
    "# output_filename=\"freeman_fake_youtube.wav\"\n",
    "# target_directory=os.path.join(project_root, \"tests\")"
   ]
  },
  {
   "cell_type": "code",
   "execution_count": 43,
   "id": "fc969136",
   "metadata": {},
   "outputs": [],
   "source": [
    "# # Johnson (OK)\n",
    "# url=\"https://www.youtube.com/watch?v=LlJIwTd9fqI\"\n",
    "# output_filename=\"johnson_real_youtube.wav\"\n",
    "# target_directory=os.path.join(project_root, \"tests\")"
   ]
  },
  {
   "cell_type": "code",
   "execution_count": 122,
   "id": "2c4dae2a",
   "metadata": {},
   "outputs": [],
   "source": [
    "# # Queen (OK)\n",
    "# url=\"https://www.youtube.com/shorts/feloRqnxEFo\"\n",
    "# output_filename=\"queen_real_youtube.wav\"\n",
    "# target_directory=os.path.join(project_root, \"tests\")"
   ]
  },
  {
   "cell_type": "code",
   "execution_count": 71,
   "id": "6521391c",
   "metadata": {},
   "outputs": [],
   "source": [
    "# # Kamala Harris (OK)\n",
    "# url=\"https://www.youtube.com/shorts/br6EHiAWJ_M\"\n",
    "# output_filename=\"harris_real_youtube.wav\"\n",
    "# target_directory=os.path.join(project_root, \"tests\")"
   ]
  },
  {
   "cell_type": "code",
   "execution_count": 79,
   "id": "4dfcabdb",
   "metadata": {},
   "outputs": [],
   "source": [
    "# # Macron (failed)\n",
    "# url=\"https://www.youtube.com/watch?v=DmVyAGhmAzY\"\n",
    "# output_filename=\"macron_real_youtube.wav\"\n",
    "# target_directory=os.path.join(project_root, \"tests\")"
   ]
  },
  {
   "cell_type": "code",
   "execution_count": 86,
   "id": "82002f71",
   "metadata": {},
   "outputs": [],
   "source": [
    "# # Jack Ma (failed)\n",
    "# url=\"https://www.youtube.com/shorts/c5QDJwP1Wuo\"\n",
    "# output_filename=\"jack_ma_real_youtube.wav\"\n",
    "# target_directory=os.path.join(project_root, \"tests\")"
   ]
  },
  {
   "cell_type": "code",
   "execution_count": 93,
   "id": "068354e2",
   "metadata": {},
   "outputs": [],
   "source": [
    "# # Bill CLinton (OK)\n",
    "# url=\"https://www.youtube.com/shorts/w6ASK3YTEzM\"\n",
    "# output_filename=\"clinton_real_youtube.wav\"\n",
    "# target_directory=os.path.join(project_root, \"tests\")"
   ]
  },
  {
   "cell_type": "code",
   "execution_count": 105,
   "id": "e668c07a",
   "metadata": {},
   "outputs": [],
   "source": [
    "# # Zuckerberg (OK)\n",
    "# url=\"https://www.youtube.com/shorts/aHDcIO7_2f0\"\n",
    "# output_filename=\"zuckerberg_real_youtube.wav\"\n",
    "# target_directory=os.path.join(project_root, \"tests\")"
   ]
  },
  {
   "cell_type": "code",
   "execution_count": 128,
   "id": "a709fd98",
   "metadata": {},
   "outputs": [],
   "source": [
    "# # MLK (failed)\n",
    "# url=\"https://www.youtube.com/watch?v=OJDkPz3nPjM\"\n",
    "# output_filename=\"mlk_real_youtube.wav\"\n",
    "# target_directory=os.path.join(project_root, \"tests\")"
   ]
  },
  {
   "cell_type": "code",
   "execution_count": 135,
   "id": "e6dd6fca",
   "metadata": {},
   "outputs": [],
   "source": [
    "# # MLK 2 (OK)\n",
    "# url=\"https://www.youtube.com/watch?v=e49VEpWg61M&t=5s\"\n",
    "# output_filename=\"mlk2_real_youtube.wav\"\n",
    "# target_directory=os.path.join(project_root, \"tests\")"
   ]
  },
  {
   "cell_type": "code",
   "execution_count": 142,
   "id": "0bb9c243",
   "metadata": {},
   "outputs": [],
   "source": [
    "# # Billie Eilish (failed)\n",
    "# url=\"https://www.youtube.com/shorts/1wEGF4QjTuU\"\n",
    "# output_filename=\"eilish_real_youtube.wav\"\n",
    "# target_directory=os.path.join(project_root, \"tests\")"
   ]
  },
  {
   "cell_type": "code",
   "execution_count": 149,
   "id": "b7fd7765",
   "metadata": {},
   "outputs": [],
   "source": [
    "# # Adam Driver (OK)\n",
    "# url=\"https://www.youtube.com/shorts/0SUhB8NId1g\"\n",
    "# output_filename=\"driver_real_youtube.wav\"\n",
    "# target_directory=os.path.join(project_root, \"tests\")"
   ]
  },
  {
   "cell_type": "code",
   "execution_count": 156,
   "id": "8aaaaeb7",
   "metadata": {},
   "outputs": [],
   "source": [
    "# # 2PAC (failed)\n",
    "# url=\"https://www.youtube.com/shorts/vSol8M-Ql0M\"\n",
    "# output_filename=\"2pac_real_youtube.wav\"\n",
    "# target_directory=os.path.join(project_root, \"tests\")"
   ]
  },
  {
   "cell_type": "code",
   "execution_count": 163,
   "id": "e051c312",
   "metadata": {},
   "outputs": [],
   "source": [
    "# # 2PAC (OK)\n",
    "# url=\"https://www.youtube.com/shorts/Cc1YlOS-T60\"\n",
    "# output_filename=\"2pac_2_real_youtube.wav\"\n",
    "# target_directory=os.path.join(project_root, \"tests\")"
   ]
  },
  {
   "cell_type": "code",
   "execution_count": 34,
   "id": "a121d818",
   "metadata": {},
   "outputs": [],
   "source": [
    "# # Biden (OK)\n",
    "# url=\"https://www.youtube.com/shorts/-uSMUNAFHHw\"\n",
    "# output_filename=\"biden_fake_youtube.wav\"\n",
    "# target_directory=os.path.join(project_root, \"tests\")"
   ]
  },
  {
   "cell_type": "code",
   "execution_count": 46,
   "id": "285a4d32",
   "metadata": {},
   "outputs": [
    {
     "name": "stdout",
     "output_type": "stream",
     "text": [
      "Saving file in: /home/lio_gdb/code/lionelgendebien/fake-no-more/tests\n",
      "Downloading YouTube audio from https://www.youtube.com/watch?v=cQ54GDm1eL0...\n",
      "[youtube] Extracting URL: https://www.youtube.com/watch?v=cQ54GDm1eL0\n",
      "[youtube] cQ54GDm1eL0: Downloading webpage\n",
      "[youtube] cQ54GDm1eL0: Downloading ios player API JSON\n",
      "[youtube] cQ54GDm1eL0: Downloading mweb player API JSON\n",
      "[youtube] cQ54GDm1eL0: Downloading m3u8 information\n",
      "[info] cQ54GDm1eL0: Downloading 1 format(s): 251\n",
      "[download] Destination: /home/lio_gdb/code/lionelgendebien/fake-no-more/tests/temp_audio.webm\n",
      "[download] 100% of  954.60KiB in 00:00:00 at 3.47MiB/s   \n",
      "Downloaded audio to /home/lio_gdb/code/lionelgendebien/fake-no-more/tests/temp_audio.webm\n",
      "Converting audio to WAV...\n",
      "Audio successfully saved as WAV: /home/lio_gdb/code/lionelgendebien/fake-no-more/tests/obama_fake_youtube.wav\n"
     ]
    }
   ],
   "source": [
    "test_path=download_youtube_audio_as_wav(url, output_filename, target_directory)"
   ]
  },
  {
   "cell_type": "code",
   "execution_count": 47,
   "id": "3acfaff2",
   "metadata": {},
   "outputs": [
    {
     "data": {
      "text/plain": [
       "'/home/lio_gdb/code/lionelgendebien/fake-no-more/tests/obama_fake_youtube.wav'"
      ]
     },
     "execution_count": 47,
     "metadata": {},
     "output_type": "execute_result"
    }
   ],
   "source": [
    "test_path"
   ]
  },
  {
   "cell_type": "markdown",
   "id": "6496f501",
   "metadata": {},
   "source": [
    "# Trim Biden video"
   ]
  },
  {
   "cell_type": "code",
   "execution_count": 14,
   "id": "1c758b6a",
   "metadata": {},
   "outputs": [
    {
     "name": "stdout",
     "output_type": "stream",
     "text": [
      "Trimmed audio saved to /home/lio_gdb/code/lionelgendebien/fake-no-more/tests/biden_fake_youtube_trimmed.wav\n"
     ]
    }
   ],
   "source": [
    "import librosa\n",
    "import soundfile as sf\n",
    "\n",
    "# Define the input and output file paths\n",
    "input_file = test_path  # Path to the original .wav file\n",
    "output_file = \"/home/lio_gdb/code/lionelgendebien/fake-no-more/tests/biden_fake_youtube_trimmed.wav\"  # Path to save the trimmed file\n",
    "\n",
    "# Define the desired duration (9 seconds) and sample rate\n",
    "DURATION = 10  # seconds\n",
    "SAMPLE_RATE = 16000  # Adjust based on your audio file\n",
    "\n",
    "# Load the audio file\n",
    "y, sr = librosa.load(input_file, sr=SAMPLE_RATE)\n",
    "\n",
    "# Truncate to the first 9 seconds\n",
    "trimmed_audio = y[:sr * DURATION]\n",
    "\n",
    "# Save the trimmed audio to a new .wav file\n",
    "sf.write(output_file, trimmed_audio, sr)\n",
    "\n",
    "print(f\"Trimmed audio saved to {output_file}\")"
   ]
  },
  {
   "cell_type": "markdown",
   "id": "12490edd",
   "metadata": {},
   "source": [
    "# Extract features"
   ]
  },
  {
   "cell_type": "code",
   "execution_count": 48,
   "id": "6aaf0aad",
   "metadata": {},
   "outputs": [
    {
     "name": "stdout",
     "output_type": "stream",
     "text": [
      "before librosa 2024-12-05 12:29:06.619735\n",
      "after librosa 2024-12-05 12:29:06.744084\n",
      "after features 2024-12-05 12:29:06.821030\n",
      "before merge 2024-12-05 12:29:06.827728\n"
     ]
    }
   ],
   "source": [
    "X_test=prepare_test_data(test_path)"
   ]
  },
  {
   "cell_type": "code",
   "execution_count": 55,
   "id": "9e1a2b22",
   "metadata": {},
   "outputs": [
    {
     "data": {
      "text/plain": [
       "(1, 157, 31)"
      ]
     },
     "execution_count": 55,
     "metadata": {},
     "output_type": "execute_result"
    }
   ],
   "source": [
    "X_test.shape"
   ]
  },
  {
   "cell_type": "code",
   "execution_count": 50,
   "id": "b7aeaf6a",
   "metadata": {},
   "outputs": [],
   "source": [
    "model_path=os.path.join(project_root, \"fake_no_more/model_specifications/lstm_new.pkl\")\n",
    "\n",
    "model=load_model(model_path)"
   ]
  },
  {
   "cell_type": "code",
   "execution_count": 51,
   "id": "b9e3d102",
   "metadata": {},
   "outputs": [
    {
     "data": {
      "text/html": [
       "<pre style=\"white-space:pre;overflow-x:auto;line-height:normal;font-family:Menlo,'DejaVu Sans Mono',consolas,'Courier New',monospace\"><span style=\"font-weight: bold\">Model: \"sequential\"</span>\n",
       "</pre>\n"
      ],
      "text/plain": [
       "\u001b[1mModel: \"sequential\"\u001b[0m\n"
      ]
     },
     "metadata": {},
     "output_type": "display_data"
    },
    {
     "data": {
      "text/html": [
       "<pre style=\"white-space:pre;overflow-x:auto;line-height:normal;font-family:Menlo,'DejaVu Sans Mono',consolas,'Courier New',monospace\">┏━━━━━━━━━━━━━━━━━━━━━━━━━━━━━━━━━┳━━━━━━━━━━━━━━━━━━━━━━━━┳━━━━━━━━━━━━━━━┓\n",
       "┃<span style=\"font-weight: bold\"> Layer (type)                    </span>┃<span style=\"font-weight: bold\"> Output Shape           </span>┃<span style=\"font-weight: bold\">       Param # </span>┃\n",
       "┡━━━━━━━━━━━━━━━━━━━━━━━━━━━━━━━━━╇━━━━━━━━━━━━━━━━━━━━━━━━╇━━━━━━━━━━━━━━━┩\n",
       "│ normalization (<span style=\"color: #0087ff; text-decoration-color: #0087ff\">Normalization</span>)   │ (<span style=\"color: #00d7ff; text-decoration-color: #00d7ff\">None</span>, <span style=\"color: #00af00; text-decoration-color: #00af00\">157</span>, <span style=\"color: #00af00; text-decoration-color: #00af00\">31</span>)        │            <span style=\"color: #00af00; text-decoration-color: #00af00\">63</span> │\n",
       "├─────────────────────────────────┼────────────────────────┼───────────────┤\n",
       "│ lstm (<span style=\"color: #0087ff; text-decoration-color: #0087ff\">LSTM</span>)                     │ (<span style=\"color: #00d7ff; text-decoration-color: #00d7ff\">None</span>, <span style=\"color: #00af00; text-decoration-color: #00af00\">157</span>, <span style=\"color: #00af00; text-decoration-color: #00af00\">64</span>)        │        <span style=\"color: #00af00; text-decoration-color: #00af00\">24,576</span> │\n",
       "├─────────────────────────────────┼────────────────────────┼───────────────┤\n",
       "│ dropout (<span style=\"color: #0087ff; text-decoration-color: #0087ff\">Dropout</span>)               │ (<span style=\"color: #00d7ff; text-decoration-color: #00d7ff\">None</span>, <span style=\"color: #00af00; text-decoration-color: #00af00\">157</span>, <span style=\"color: #00af00; text-decoration-color: #00af00\">64</span>)        │             <span style=\"color: #00af00; text-decoration-color: #00af00\">0</span> │\n",
       "├─────────────────────────────────┼────────────────────────┼───────────────┤\n",
       "│ lstm_1 (<span style=\"color: #0087ff; text-decoration-color: #0087ff\">LSTM</span>)                   │ (<span style=\"color: #00d7ff; text-decoration-color: #00d7ff\">None</span>, <span style=\"color: #00af00; text-decoration-color: #00af00\">157</span>, <span style=\"color: #00af00; text-decoration-color: #00af00\">64</span>)        │        <span style=\"color: #00af00; text-decoration-color: #00af00\">33,024</span> │\n",
       "├─────────────────────────────────┼────────────────────────┼───────────────┤\n",
       "│ dropout_1 (<span style=\"color: #0087ff; text-decoration-color: #0087ff\">Dropout</span>)             │ (<span style=\"color: #00d7ff; text-decoration-color: #00d7ff\">None</span>, <span style=\"color: #00af00; text-decoration-color: #00af00\">157</span>, <span style=\"color: #00af00; text-decoration-color: #00af00\">64</span>)        │             <span style=\"color: #00af00; text-decoration-color: #00af00\">0</span> │\n",
       "├─────────────────────────────────┼────────────────────────┼───────────────┤\n",
       "│ lstm_2 (<span style=\"color: #0087ff; text-decoration-color: #0087ff\">LSTM</span>)                   │ (<span style=\"color: #00d7ff; text-decoration-color: #00d7ff\">None</span>, <span style=\"color: #00af00; text-decoration-color: #00af00\">157</span>, <span style=\"color: #00af00; text-decoration-color: #00af00\">64</span>)        │        <span style=\"color: #00af00; text-decoration-color: #00af00\">33,024</span> │\n",
       "├─────────────────────────────────┼────────────────────────┼───────────────┤\n",
       "│ dropout_2 (<span style=\"color: #0087ff; text-decoration-color: #0087ff\">Dropout</span>)             │ (<span style=\"color: #00d7ff; text-decoration-color: #00d7ff\">None</span>, <span style=\"color: #00af00; text-decoration-color: #00af00\">157</span>, <span style=\"color: #00af00; text-decoration-color: #00af00\">64</span>)        │             <span style=\"color: #00af00; text-decoration-color: #00af00\">0</span> │\n",
       "├─────────────────────────────────┼────────────────────────┼───────────────┤\n",
       "│ lstm_3 (<span style=\"color: #0087ff; text-decoration-color: #0087ff\">LSTM</span>)                   │ (<span style=\"color: #00d7ff; text-decoration-color: #00d7ff\">None</span>, <span style=\"color: #00af00; text-decoration-color: #00af00\">64</span>)             │        <span style=\"color: #00af00; text-decoration-color: #00af00\">33,024</span> │\n",
       "├─────────────────────────────────┼────────────────────────┼───────────────┤\n",
       "│ dropout_3 (<span style=\"color: #0087ff; text-decoration-color: #0087ff\">Dropout</span>)             │ (<span style=\"color: #00d7ff; text-decoration-color: #00d7ff\">None</span>, <span style=\"color: #00af00; text-decoration-color: #00af00\">64</span>)             │             <span style=\"color: #00af00; text-decoration-color: #00af00\">0</span> │\n",
       "├─────────────────────────────────┼────────────────────────┼───────────────┤\n",
       "│ dense (<span style=\"color: #0087ff; text-decoration-color: #0087ff\">Dense</span>)                   │ (<span style=\"color: #00d7ff; text-decoration-color: #00d7ff\">None</span>, <span style=\"color: #00af00; text-decoration-color: #00af00\">64</span>)             │         <span style=\"color: #00af00; text-decoration-color: #00af00\">4,160</span> │\n",
       "├─────────────────────────────────┼────────────────────────┼───────────────┤\n",
       "│ dropout_4 (<span style=\"color: #0087ff; text-decoration-color: #0087ff\">Dropout</span>)             │ (<span style=\"color: #00d7ff; text-decoration-color: #00d7ff\">None</span>, <span style=\"color: #00af00; text-decoration-color: #00af00\">64</span>)             │             <span style=\"color: #00af00; text-decoration-color: #00af00\">0</span> │\n",
       "├─────────────────────────────────┼────────────────────────┼───────────────┤\n",
       "│ dense_1 (<span style=\"color: #0087ff; text-decoration-color: #0087ff\">Dense</span>)                 │ (<span style=\"color: #00d7ff; text-decoration-color: #00d7ff\">None</span>, <span style=\"color: #00af00; text-decoration-color: #00af00\">32</span>)             │         <span style=\"color: #00af00; text-decoration-color: #00af00\">2,080</span> │\n",
       "├─────────────────────────────────┼────────────────────────┼───────────────┤\n",
       "│ dropout_5 (<span style=\"color: #0087ff; text-decoration-color: #0087ff\">Dropout</span>)             │ (<span style=\"color: #00d7ff; text-decoration-color: #00d7ff\">None</span>, <span style=\"color: #00af00; text-decoration-color: #00af00\">32</span>)             │             <span style=\"color: #00af00; text-decoration-color: #00af00\">0</span> │\n",
       "├─────────────────────────────────┼────────────────────────┼───────────────┤\n",
       "│ dense_2 (<span style=\"color: #0087ff; text-decoration-color: #0087ff\">Dense</span>)                 │ (<span style=\"color: #00d7ff; text-decoration-color: #00d7ff\">None</span>, <span style=\"color: #00af00; text-decoration-color: #00af00\">1</span>)              │            <span style=\"color: #00af00; text-decoration-color: #00af00\">33</span> │\n",
       "└─────────────────────────────────┴────────────────────────┴───────────────┘\n",
       "</pre>\n"
      ],
      "text/plain": [
       "┏━━━━━━━━━━━━━━━━━━━━━━━━━━━━━━━━━┳━━━━━━━━━━━━━━━━━━━━━━━━┳━━━━━━━━━━━━━━━┓\n",
       "┃\u001b[1m \u001b[0m\u001b[1mLayer (type)                   \u001b[0m\u001b[1m \u001b[0m┃\u001b[1m \u001b[0m\u001b[1mOutput Shape          \u001b[0m\u001b[1m \u001b[0m┃\u001b[1m \u001b[0m\u001b[1m      Param #\u001b[0m\u001b[1m \u001b[0m┃\n",
       "┡━━━━━━━━━━━━━━━━━━━━━━━━━━━━━━━━━╇━━━━━━━━━━━━━━━━━━━━━━━━╇━━━━━━━━━━━━━━━┩\n",
       "│ normalization (\u001b[38;5;33mNormalization\u001b[0m)   │ (\u001b[38;5;45mNone\u001b[0m, \u001b[38;5;34m157\u001b[0m, \u001b[38;5;34m31\u001b[0m)        │            \u001b[38;5;34m63\u001b[0m │\n",
       "├─────────────────────────────────┼────────────────────────┼───────────────┤\n",
       "│ lstm (\u001b[38;5;33mLSTM\u001b[0m)                     │ (\u001b[38;5;45mNone\u001b[0m, \u001b[38;5;34m157\u001b[0m, \u001b[38;5;34m64\u001b[0m)        │        \u001b[38;5;34m24,576\u001b[0m │\n",
       "├─────────────────────────────────┼────────────────────────┼───────────────┤\n",
       "│ dropout (\u001b[38;5;33mDropout\u001b[0m)               │ (\u001b[38;5;45mNone\u001b[0m, \u001b[38;5;34m157\u001b[0m, \u001b[38;5;34m64\u001b[0m)        │             \u001b[38;5;34m0\u001b[0m │\n",
       "├─────────────────────────────────┼────────────────────────┼───────────────┤\n",
       "│ lstm_1 (\u001b[38;5;33mLSTM\u001b[0m)                   │ (\u001b[38;5;45mNone\u001b[0m, \u001b[38;5;34m157\u001b[0m, \u001b[38;5;34m64\u001b[0m)        │        \u001b[38;5;34m33,024\u001b[0m │\n",
       "├─────────────────────────────────┼────────────────────────┼───────────────┤\n",
       "│ dropout_1 (\u001b[38;5;33mDropout\u001b[0m)             │ (\u001b[38;5;45mNone\u001b[0m, \u001b[38;5;34m157\u001b[0m, \u001b[38;5;34m64\u001b[0m)        │             \u001b[38;5;34m0\u001b[0m │\n",
       "├─────────────────────────────────┼────────────────────────┼───────────────┤\n",
       "│ lstm_2 (\u001b[38;5;33mLSTM\u001b[0m)                   │ (\u001b[38;5;45mNone\u001b[0m, \u001b[38;5;34m157\u001b[0m, \u001b[38;5;34m64\u001b[0m)        │        \u001b[38;5;34m33,024\u001b[0m │\n",
       "├─────────────────────────────────┼────────────────────────┼───────────────┤\n",
       "│ dropout_2 (\u001b[38;5;33mDropout\u001b[0m)             │ (\u001b[38;5;45mNone\u001b[0m, \u001b[38;5;34m157\u001b[0m, \u001b[38;5;34m64\u001b[0m)        │             \u001b[38;5;34m0\u001b[0m │\n",
       "├─────────────────────────────────┼────────────────────────┼───────────────┤\n",
       "│ lstm_3 (\u001b[38;5;33mLSTM\u001b[0m)                   │ (\u001b[38;5;45mNone\u001b[0m, \u001b[38;5;34m64\u001b[0m)             │        \u001b[38;5;34m33,024\u001b[0m │\n",
       "├─────────────────────────────────┼────────────────────────┼───────────────┤\n",
       "│ dropout_3 (\u001b[38;5;33mDropout\u001b[0m)             │ (\u001b[38;5;45mNone\u001b[0m, \u001b[38;5;34m64\u001b[0m)             │             \u001b[38;5;34m0\u001b[0m │\n",
       "├─────────────────────────────────┼────────────────────────┼───────────────┤\n",
       "│ dense (\u001b[38;5;33mDense\u001b[0m)                   │ (\u001b[38;5;45mNone\u001b[0m, \u001b[38;5;34m64\u001b[0m)             │         \u001b[38;5;34m4,160\u001b[0m │\n",
       "├─────────────────────────────────┼────────────────────────┼───────────────┤\n",
       "│ dropout_4 (\u001b[38;5;33mDropout\u001b[0m)             │ (\u001b[38;5;45mNone\u001b[0m, \u001b[38;5;34m64\u001b[0m)             │             \u001b[38;5;34m0\u001b[0m │\n",
       "├─────────────────────────────────┼────────────────────────┼───────────────┤\n",
       "│ dense_1 (\u001b[38;5;33mDense\u001b[0m)                 │ (\u001b[38;5;45mNone\u001b[0m, \u001b[38;5;34m32\u001b[0m)             │         \u001b[38;5;34m2,080\u001b[0m │\n",
       "├─────────────────────────────────┼────────────────────────┼───────────────┤\n",
       "│ dropout_5 (\u001b[38;5;33mDropout\u001b[0m)             │ (\u001b[38;5;45mNone\u001b[0m, \u001b[38;5;34m32\u001b[0m)             │             \u001b[38;5;34m0\u001b[0m │\n",
       "├─────────────────────────────────┼────────────────────────┼───────────────┤\n",
       "│ dense_2 (\u001b[38;5;33mDense\u001b[0m)                 │ (\u001b[38;5;45mNone\u001b[0m, \u001b[38;5;34m1\u001b[0m)              │            \u001b[38;5;34m33\u001b[0m │\n",
       "└─────────────────────────────────┴────────────────────────┴───────────────┘\n"
      ]
     },
     "metadata": {},
     "output_type": "display_data"
    },
    {
     "data": {
      "text/html": [
       "<pre style=\"white-space:pre;overflow-x:auto;line-height:normal;font-family:Menlo,'DejaVu Sans Mono',consolas,'Courier New',monospace\"><span style=\"font-weight: bold\"> Total params: </span><span style=\"color: #00af00; text-decoration-color: #00af00\">389,828</span> (1.49 MB)\n",
       "</pre>\n"
      ],
      "text/plain": [
       "\u001b[1m Total params: \u001b[0m\u001b[38;5;34m389,828\u001b[0m (1.49 MB)\n"
      ]
     },
     "metadata": {},
     "output_type": "display_data"
    },
    {
     "data": {
      "text/html": [
       "<pre style=\"white-space:pre;overflow-x:auto;line-height:normal;font-family:Menlo,'DejaVu Sans Mono',consolas,'Courier New',monospace\"><span style=\"font-weight: bold\"> Trainable params: </span><span style=\"color: #00af00; text-decoration-color: #00af00\">129,921</span> (507.50 KB)\n",
       "</pre>\n"
      ],
      "text/plain": [
       "\u001b[1m Trainable params: \u001b[0m\u001b[38;5;34m129,921\u001b[0m (507.50 KB)\n"
      ]
     },
     "metadata": {},
     "output_type": "display_data"
    },
    {
     "data": {
      "text/html": [
       "<pre style=\"white-space:pre;overflow-x:auto;line-height:normal;font-family:Menlo,'DejaVu Sans Mono',consolas,'Courier New',monospace\"><span style=\"font-weight: bold\"> Non-trainable params: </span><span style=\"color: #00af00; text-decoration-color: #00af00\">63</span> (256.00 B)\n",
       "</pre>\n"
      ],
      "text/plain": [
       "\u001b[1m Non-trainable params: \u001b[0m\u001b[38;5;34m63\u001b[0m (256.00 B)\n"
      ]
     },
     "metadata": {},
     "output_type": "display_data"
    },
    {
     "data": {
      "text/html": [
       "<pre style=\"white-space:pre;overflow-x:auto;line-height:normal;font-family:Menlo,'DejaVu Sans Mono',consolas,'Courier New',monospace\"><span style=\"font-weight: bold\"> Optimizer params: </span><span style=\"color: #00af00; text-decoration-color: #00af00\">259,844</span> (1015.02 KB)\n",
       "</pre>\n"
      ],
      "text/plain": [
       "\u001b[1m Optimizer params: \u001b[0m\u001b[38;5;34m259,844\u001b[0m (1015.02 KB)\n"
      ]
     },
     "metadata": {},
     "output_type": "display_data"
    }
   ],
   "source": [
    "model.summary()"
   ]
  },
  {
   "cell_type": "code",
   "execution_count": 52,
   "id": "e4b061d0",
   "metadata": {},
   "outputs": [
    {
     "name": "stdout",
     "output_type": "stream",
     "text": [
      "\u001b[1m1/1\u001b[0m \u001b[32m━━━━━━━━━━━━━━━━━━━━\u001b[0m\u001b[37m\u001b[0m \u001b[1m0s\u001b[0m 450ms/step\n"
     ]
    }
   ],
   "source": [
    "prediction=predict_X(model, X_test)"
   ]
  },
  {
   "cell_type": "code",
   "execution_count": 53,
   "id": "37d1070f",
   "metadata": {},
   "outputs": [
    {
     "data": {
      "text/plain": [
       "'REAL'"
      ]
     },
     "execution_count": 53,
     "metadata": {},
     "output_type": "execute_result"
    }
   ],
   "source": [
    "prediction"
   ]
  },
  {
   "cell_type": "code",
   "execution_count": 54,
   "id": "b95e2f2d",
   "metadata": {},
   "outputs": [
    {
     "name": "stdout",
     "output_type": "stream",
     "text": [
      "\u001b[1m1/1\u001b[0m \u001b[32m━━━━━━━━━━━━━━━━━━━━\u001b[0m\u001b[37m\u001b[0m \u001b[1m0s\u001b[0m 58ms/step\n"
     ]
    },
    {
     "data": {
      "text/plain": [
       "array([[0.00310726]], dtype=float32)"
      ]
     },
     "execution_count": 54,
     "metadata": {},
     "output_type": "execute_result"
    }
   ],
   "source": [
    "predict_prob(model, X_test)"
   ]
  },
  {
   "cell_type": "code",
   "execution_count": null,
   "id": "cf3e797f",
   "metadata": {},
   "outputs": [],
   "source": []
  }
 ],
 "metadata": {
  "kernelspec": {
   "display_name": "Python 3 (ipykernel)",
   "language": "python",
   "name": "python3"
  },
  "language_info": {
   "codemirror_mode": {
    "name": "ipython",
    "version": 3
   },
   "file_extension": ".py",
   "mimetype": "text/x-python",
   "name": "python",
   "nbconvert_exporter": "python",
   "pygments_lexer": "ipython3",
   "version": "3.10.6"
  },
  "toc": {
   "base_numbering": 1,
   "nav_menu": {},
   "number_sections": true,
   "sideBar": true,
   "skip_h1_title": false,
   "title_cell": "Table of Contents",
   "title_sidebar": "Contents",
   "toc_cell": false,
   "toc_position": {},
   "toc_section_display": true,
   "toc_window_display": false
  }
 },
 "nbformat": 4,
 "nbformat_minor": 5
}
